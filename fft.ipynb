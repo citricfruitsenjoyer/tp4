{
 "cells": [
  {
   "cell_type": "code",
   "execution_count": 7,
   "id": "749ea260",
   "metadata": {},
   "outputs": [],
   "source": [
    "# import cv2 as cv\n",
    "from scipy.fft import fft, fftfreq\n",
    "import numpy as np\n",
    "from matplotlib import pyplot as plt\n",
    "# import glob\n",
    "import pandas as pd\n",
    "\n",
    "from scipy.fft import fftfreq\n",
    "from scipy.fft import fft, ifft, fft2, ifft2\n",
    "\n",
    "from plotly import express as px\n",
    "\n",
    "plt.style.use('ggplot')"
   ]
  },
  {
   "cell_type": "code",
   "execution_count": 1,
   "id": "ee7a2d6d",
   "metadata": {},
   "outputs": [
    {
     "ename": "NameError",
     "evalue": "name 'pd' is not defined",
     "output_type": "error",
     "traceback": [
      "\u001b[1;31m---------------------------------------------------------------------------\u001b[0m",
      "\u001b[1;31mNameError\u001b[0m                                 Traceback (most recent call last)",
      "Cell \u001b[1;32mIn[1], line 5\u001b[0m\n\u001b[0;32m      3\u001b[0m dashdash\u001b[38;5;241m=\u001b[39m\u001b[38;5;124m'\u001b[39m\u001b[38;5;124m--\u001b[39m\u001b[38;5;124m'\u001b[39m\n\u001b[0;32m      4\u001b[0m \u001b[38;5;28;01mfor\u001b[39;00m k \u001b[38;5;129;01min\u001b[39;00m \u001b[38;5;28mrange\u001b[39m(low,high\u001b[38;5;241m+\u001b[39m\u001b[38;5;241m1\u001b[39m):\n\u001b[1;32m----> 5\u001b[0m     df\u001b[38;5;241m=\u001b[39m\u001b[43mpd\u001b[49m\u001b[38;5;241m.\u001b[39mread_csv(\u001b[38;5;124mf\u001b[39m\u001b[38;5;124m'\u001b[39m\u001b[38;5;124mpeltier_cosas/peltiermod\u001b[39m\u001b[38;5;132;01m{\u001b[39;00mk\u001b[38;5;132;01m}\u001b[39;00m\u001b[38;5;124m.csv\u001b[39m\u001b[38;5;124m'\u001b[39m)\n\u001b[0;32m      7\u001b[0m     t\u001b[38;5;241m=\u001b[39mnp\u001b[38;5;241m.\u001b[39marray(\u001b[38;5;28mrange\u001b[39m(\u001b[38;5;28mlen\u001b[39m(df)))\n\u001b[0;32m      9\u001b[0m     plt\u001b[38;5;241m.\u001b[39mfigure(figsize\u001b[38;5;241m=\u001b[39m(\u001b[38;5;241m16\u001b[39m,\u001b[38;5;241m9\u001b[39m))\n",
      "\u001b[1;31mNameError\u001b[0m: name 'pd' is not defined"
     ]
    }
   ],
   "source": [
    "low=4\n",
    "high=4\n",
    "dashdash='--'\n",
    "for k in range(low,high+1):\n",
    "    df=pd.read_csv(f'peltier_cosas/peltiermod{k}.csv')\n",
    "\n",
    "    t=np.array(range(len(df)))\n",
    "\n",
    "    plt.figure(figsize=(16,9))\n",
    "    plt.title('Temperatura de la Celda Peltier en función del tiempo',fontsize=24)\n",
    "    plt.plot(t,df['temp'])\n",
    "    plt.xlabel('Tiempo [s]')\n",
    "    plt.ylabel('Temperatura [ºC]')\n",
    "    #plt.savefig(f'graficos/video{k}_tiempo_temperatura.png', bbox_inches='tight', dpi=150)\n",
    "\n",
    "    df_video=pd.read_csv(f'procesados/video{k}_rgb_sliced.csv')\n",
    "    intensidad=(df_video['r']**2+df_video['g']**2+df_video['b']**2)**.5\n",
    "\n",
    "    plt.figure(figsize=(16,9))\n",
    "    for i in ['r','g','b']:\n",
    "        plt.plot(df_video['t'],df_video[i],f'{i}o', label=f'Canal {i.upper()}')\n",
    "        plt.title('Intensidad en canal RGB en función del tiempo',fontsize=24)\n",
    "        plt.xlabel('Tiempo [s]')\n",
    "        plt.ylabel('Intensidad 0-255 / superficie total en pixeles de la celda Peltier')\n",
    "        plt.legend(fontsize=16)\n",
    "    #plt.savefig(f'graficos/video{k}_tiempo_tricolor.png', bbox_inches='tight', dpi=150)\n",
    "        \n",
    "\n",
    "    for i in ['r','g','b']:\n",
    "        plt.figure(figsize=(16,9))\n",
    "        plt.title(f'Intensidad en canal {i.upper()} en función del tiempo',fontsize=24)\n",
    "        plt.plot(df_video['t'],df_video[i],f'{i}o', label=f'Canal {i.upper()}')\n",
    "        plt.xlabel('Tiempo [s]')\n",
    "        plt.ylabel('Intensidad 0-255 / superficie total en pixeles de la celda Peltier')\n",
    "        plt.legend(fontsize=16)\n",
    "        #plt.savefig(f'graficos/video{k}_tiempo_{i}.png', bbox_inches='tight', dpi=150)\n",
    "\n",
    "\n",
    "    plt.figure(figsize=(16,9))\n",
    "    plt.title(f'Módulo de la intensidad del vector RGB en función del tiempo',fontsize=24)\n",
    "    plt.plot(df_video['t'],intensidad,'o--',color='purple')\n",
    "    plt.xlabel('Tiempo [s]')\n",
    "    plt.ylabel('Intensidad 0-255 / superficie total en pixeles de la celda Peltier')\n",
    "    #plt.savefig(f'graficos/video{k}_tiempo_modulo.png', bbox_inches='tight', dpi=150)\n",
    "\n",
    "\n",
    "    for i in ['r','g','b']:\n",
    "        y=np.interp(t, df_video['t'], df_video[i])\n",
    "        plt.figure(figsize=(12,9))\n",
    "        plt.title(f'Intensidad en canal {i.upper()} en función de la temperatura',fontsize=24)\n",
    "        plt.plot(df['temp'],y,f'{i}o--',label=f'Intensidad en el canal {i.upper()}')\n",
    "        plt.xlabel('Temperatura [ºC]')\n",
    "        plt.ylabel('Intensidad 0-255 / superficie total en pixeles de la celda Peltier')\n",
    "        # plt.plot(df['temp'],y,f'{i}o')\n",
    "        #plt.savefig(f'graficos/video{k}_temperatura_{i}.png', bbox_inches='tight', dpi=150)\n",
    "        \n",
    "        \n",
    "    plt.figure(figsize=(12,9))\n",
    "    plt.title(f'Módulo de la intensidad del vector RGB en función de la temperatura',fontsize=24)\n",
    "    plt.xlabel('Temperatura [ºC]')\n",
    "    plt.ylabel('Intensidad 0-255 / superficie total en pixeles de la celda Peltier')\n",
    "    y=np.interp(t, df_video['t'], intensidad)\n",
    "    plt.plot(df['temp'],y, 'o--',color='purple')\n",
    "    #plt.savefig(f'graficos/video{k}_temperatura_modulo.png', bbox_inches='tight', dpi=150)\n",
    "    y=0\n"
   ]
  },
  {
   "cell_type": "code",
   "execution_count": 10,
   "id": "b5aaf4f8",
   "metadata": {},
   "outputs": [],
   "source": [
    "k=4\n",
    "df_video=pd.read_csv(f'procesados/video{k}_rgb_sliced.csv')\n",
    "intensidad=(df_video['r']**2+df_video['g']**2+df_video['b']**2)**.5\n",
    "df=pd.read_csv(f'peltier_cosas/peltiermod{k}.csv')\n"
   ]
  },
  {
   "cell_type": "code",
   "execution_count": 13,
   "id": "c5a7b920",
   "metadata": {},
   "outputs": [
    {
     "data": {
      "application/vnd.plotly.v1+json": {
       "config": {
        "plotlyServerURL": "https://plot.ly"
       },
       "data": [
        {
         "hovertemplate": "x=%{x}<br>y=%{y}<extra></extra>",
         "legendgroup": "",
         "line": {
          "color": "#636efa",
          "dash": "solid"
         },
         "marker": {
          "symbol": "circle"
         },
         "mode": "lines",
         "name": "",
         "orientation": "v",
         "showlegend": false,
         "type": "scatter",
         "x": [
          0,
          1,
          2,
          3,
          4,
          5,
          6,
          7,
          8,
          9,
          10,
          11,
          12,
          13,
          14,
          15,
          16,
          17,
          18,
          19,
          20,
          21,
          22,
          23,
          24,
          25,
          26,
          27,
          28,
          29,
          30,
          31,
          32,
          33,
          34,
          35,
          36,
          37,
          38,
          39,
          40,
          41,
          42,
          43,
          44,
          45,
          46,
          47,
          48,
          49,
          50,
          51,
          52,
          53,
          54,
          55,
          56,
          57,
          58,
          59,
          60,
          61,
          62,
          63,
          64,
          65,
          66,
          67,
          68,
          69,
          70,
          71,
          72,
          73,
          74,
          75,
          76,
          77,
          78,
          79,
          80,
          81,
          82,
          83,
          84,
          85,
          86,
          87,
          88,
          89,
          90,
          91,
          92,
          93,
          94,
          95,
          96,
          97,
          98,
          99,
          100,
          101,
          102,
          103,
          104,
          105,
          106,
          107,
          108,
          109,
          110,
          111,
          112,
          113,
          114,
          115,
          116,
          117,
          118,
          119,
          120,
          121,
          122,
          123,
          124,
          125,
          126,
          127,
          128,
          129,
          130,
          131,
          132,
          133,
          134,
          135,
          136,
          137,
          138,
          139,
          140,
          141,
          142,
          143,
          144,
          145,
          146,
          147,
          148,
          149,
          150,
          151,
          152,
          153,
          154,
          155,
          156,
          157,
          158,
          159,
          160,
          161,
          162,
          163,
          164,
          165,
          166,
          167,
          168,
          169,
          170,
          171,
          172,
          173,
          174,
          175,
          176,
          177,
          178,
          179,
          180,
          181,
          182,
          183,
          184,
          185,
          186,
          187,
          188,
          189,
          190,
          191,
          192,
          193,
          194,
          195,
          196,
          197,
          198,
          199,
          200,
          201,
          202,
          203,
          204,
          205,
          206,
          207,
          208,
          209,
          210,
          211,
          212,
          213,
          214,
          215,
          216,
          217,
          218,
          219,
          220,
          221,
          222,
          223,
          224,
          225,
          226,
          227,
          228,
          229,
          230,
          231,
          232,
          233,
          234,
          235,
          236,
          237,
          238,
          239,
          240,
          241,
          242,
          243,
          244,
          245,
          246,
          247,
          248,
          249,
          250,
          251,
          252,
          253,
          254,
          255,
          256,
          257,
          258,
          259,
          260,
          261,
          262,
          263,
          264,
          265,
          266,
          267,
          268,
          269,
          270,
          271,
          272,
          273,
          274,
          275,
          276,
          277,
          278,
          279,
          280,
          281,
          282,
          283,
          284,
          285,
          286,
          287,
          288,
          289,
          290,
          291,
          292,
          293,
          294,
          295,
          296,
          297,
          298,
          299,
          300,
          301,
          302,
          303,
          304,
          305,
          306,
          307,
          308,
          309,
          310,
          311,
          312,
          313,
          314,
          315,
          316,
          317,
          318,
          319,
          320,
          321,
          322,
          323,
          324,
          325,
          326,
          327,
          328,
          329,
          330,
          331,
          332
         ],
         "xaxis": "x",
         "y": [
          19.3,
          19.2,
          19.2,
          19.1,
          19.1,
          19.2,
          19.1,
          19.1,
          19.1,
          19.1,
          19.1,
          19.3,
          19.3,
          19.2,
          19.2,
          19.1,
          19.2,
          19.1,
          19.1,
          19.1,
          19.1,
          19.1,
          19.1,
          19.1,
          19.1,
          19.1,
          19.1,
          19.1,
          19.2,
          19.1,
          19.2,
          19,
          19.1,
          19,
          19,
          19.1,
          19,
          19,
          19,
          19,
          19.1,
          23.7,
          29,
          33.8,
          37.9,
          41.6,
          44.2,
          47.3,
          49.9,
          52.4,
          54.3,
          56.3,
          58,
          59,
          60.4,
          61.5,
          62.6,
          63.5,
          64.5,
          65.2,
          65.9,
          66.2,
          67,
          67.5,
          67.9,
          68.4,
          68.8,
          69.1,
          69.4,
          69.7,
          69.9,
          70.2,
          70.4,
          70.7,
          70.8,
          70.9,
          71.1,
          71.3,
          71.3,
          71.5,
          71.5,
          71.6,
          71.7,
          71.8,
          71.8,
          71.8,
          71.9,
          72,
          72,
          72.1,
          72.2,
          72.2,
          72.3,
          72.3,
          72.3,
          72.3,
          72.4,
          72.4,
          72.4,
          72.5,
          72.4,
          72.5,
          72.5,
          72.5,
          72.5,
          72.5,
          72.5,
          72.6,
          72.6,
          72.7,
          72.7,
          72.7,
          72.7,
          72.7,
          72.7,
          72.7,
          72.7,
          72.7,
          72.7,
          72.7,
          72.7,
          72.7,
          72.7,
          72.7,
          72.7,
          72.8,
          72.8,
          72.8,
          72.8,
          72.8,
          72.8,
          72.8,
          69.2,
          65.6,
          62.1,
          59.1,
          56,
          53.2,
          46.1,
          40,
          34.5,
          29.6,
          25.3,
          21.5,
          18.8,
          15.7,
          12.9,
          10.5,
          8.3,
          6.4,
          4.6,
          3.3,
          1.9,
          0.5,
          -0.6,
          -1.8,
          -2.7,
          -3.5,
          -4.2,
          -4.9,
          -5.6,
          -6.2,
          -6.7,
          -7.3,
          -7.7,
          -8.1,
          -8.5,
          -8.9,
          -9.2,
          -9.5,
          -9.9,
          -10.1,
          -10.3,
          -10.5,
          -10.8,
          -10.9,
          -11.1,
          -11.4,
          -11.5,
          -11.6,
          -11.8,
          -11.9,
          -12,
          -12.1,
          -12.3,
          -12.4,
          -12.5,
          -12.6,
          -12.7,
          -12.7,
          -12.4,
          -12.9,
          -13,
          -13,
          -13.1,
          -13.2,
          -13.3,
          -13.3,
          -13.4,
          -13.4,
          -13.5,
          -13.5,
          -13.6,
          -13.6,
          -13.7,
          -13.8,
          -13.8,
          -13.9,
          -14,
          -14,
          -14.1,
          -14.1,
          -14.2,
          -14.3,
          -14.3,
          -14.4,
          -14.4,
          -14.5,
          -14.6,
          -14.6,
          -14.6,
          -14.6,
          -14.6,
          -14.7,
          -14.8,
          -14.8,
          -14.9,
          -15,
          -15,
          -15.1,
          -15.1,
          -15.1,
          -15.2,
          -15.2,
          -15.2,
          -15.3,
          -15.3,
          -15.3,
          -15.4,
          -15.5,
          -15.5,
          -15.5,
          -15.6,
          -15.5,
          -15.6,
          -15.6,
          -15.6,
          -15.7,
          -15.7,
          -15.8,
          -15.8,
          -15,
          -11.7,
          -8.8,
          -6.2,
          -3.9,
          -2.2,
          -0.4,
          1.5,
          3,
          4.4,
          5.6,
          6.7,
          7.1,
          8.4,
          9.3,
          10.1,
          10.9,
          11.4,
          12.1,
          12.6,
          13,
          13.5,
          13.9,
          14.4,
          14.7,
          15.1,
          15.3,
          15.7,
          15.9,
          16.2,
          16.4,
          16.6,
          16.8,
          17.1,
          17.2,
          17.2,
          17.4,
          17.6,
          17.7,
          17.8,
          17.8,
          18,
          18.1,
          18.2,
          18.2,
          18.3,
          18.3,
          18.4,
          18.5,
          18.6,
          18.6,
          18.7,
          18.7,
          18.7,
          18.7,
          18.7,
          18.8,
          18.8,
          18.9,
          18.9,
          18.9,
          18.9,
          18.9,
          19,
          19,
          19.1,
          18.9,
          19,
          19,
          19.1,
          19.1,
          19.1,
          19.1,
          19.1,
          19.1,
          19.1,
          19.1,
          19.1,
          19.2,
          19.2,
          19.2,
          19.2
         ],
         "yaxis": "y"
        }
       ],
       "layout": {
        "legend": {
         "tracegroupgap": 0
        },
        "margin": {
         "t": 60
        },
        "template": {
         "data": {
          "bar": [
           {
            "error_x": {
             "color": "#2a3f5f"
            },
            "error_y": {
             "color": "#2a3f5f"
            },
            "marker": {
             "line": {
              "color": "#E5ECF6",
              "width": 0.5
             },
             "pattern": {
              "fillmode": "overlay",
              "size": 10,
              "solidity": 0.2
             }
            },
            "type": "bar"
           }
          ],
          "barpolar": [
           {
            "marker": {
             "line": {
              "color": "#E5ECF6",
              "width": 0.5
             },
             "pattern": {
              "fillmode": "overlay",
              "size": 10,
              "solidity": 0.2
             }
            },
            "type": "barpolar"
           }
          ],
          "carpet": [
           {
            "aaxis": {
             "endlinecolor": "#2a3f5f",
             "gridcolor": "white",
             "linecolor": "white",
             "minorgridcolor": "white",
             "startlinecolor": "#2a3f5f"
            },
            "baxis": {
             "endlinecolor": "#2a3f5f",
             "gridcolor": "white",
             "linecolor": "white",
             "minorgridcolor": "white",
             "startlinecolor": "#2a3f5f"
            },
            "type": "carpet"
           }
          ],
          "choropleth": [
           {
            "colorbar": {
             "outlinewidth": 0,
             "ticks": ""
            },
            "type": "choropleth"
           }
          ],
          "contour": [
           {
            "colorbar": {
             "outlinewidth": 0,
             "ticks": ""
            },
            "colorscale": [
             [
              0,
              "#0d0887"
             ],
             [
              0.1111111111111111,
              "#46039f"
             ],
             [
              0.2222222222222222,
              "#7201a8"
             ],
             [
              0.3333333333333333,
              "#9c179e"
             ],
             [
              0.4444444444444444,
              "#bd3786"
             ],
             [
              0.5555555555555556,
              "#d8576b"
             ],
             [
              0.6666666666666666,
              "#ed7953"
             ],
             [
              0.7777777777777778,
              "#fb9f3a"
             ],
             [
              0.8888888888888888,
              "#fdca26"
             ],
             [
              1,
              "#f0f921"
             ]
            ],
            "type": "contour"
           }
          ],
          "contourcarpet": [
           {
            "colorbar": {
             "outlinewidth": 0,
             "ticks": ""
            },
            "type": "contourcarpet"
           }
          ],
          "heatmap": [
           {
            "colorbar": {
             "outlinewidth": 0,
             "ticks": ""
            },
            "colorscale": [
             [
              0,
              "#0d0887"
             ],
             [
              0.1111111111111111,
              "#46039f"
             ],
             [
              0.2222222222222222,
              "#7201a8"
             ],
             [
              0.3333333333333333,
              "#9c179e"
             ],
             [
              0.4444444444444444,
              "#bd3786"
             ],
             [
              0.5555555555555556,
              "#d8576b"
             ],
             [
              0.6666666666666666,
              "#ed7953"
             ],
             [
              0.7777777777777778,
              "#fb9f3a"
             ],
             [
              0.8888888888888888,
              "#fdca26"
             ],
             [
              1,
              "#f0f921"
             ]
            ],
            "type": "heatmap"
           }
          ],
          "heatmapgl": [
           {
            "colorbar": {
             "outlinewidth": 0,
             "ticks": ""
            },
            "colorscale": [
             [
              0,
              "#0d0887"
             ],
             [
              0.1111111111111111,
              "#46039f"
             ],
             [
              0.2222222222222222,
              "#7201a8"
             ],
             [
              0.3333333333333333,
              "#9c179e"
             ],
             [
              0.4444444444444444,
              "#bd3786"
             ],
             [
              0.5555555555555556,
              "#d8576b"
             ],
             [
              0.6666666666666666,
              "#ed7953"
             ],
             [
              0.7777777777777778,
              "#fb9f3a"
             ],
             [
              0.8888888888888888,
              "#fdca26"
             ],
             [
              1,
              "#f0f921"
             ]
            ],
            "type": "heatmapgl"
           }
          ],
          "histogram": [
           {
            "marker": {
             "pattern": {
              "fillmode": "overlay",
              "size": 10,
              "solidity": 0.2
             }
            },
            "type": "histogram"
           }
          ],
          "histogram2d": [
           {
            "colorbar": {
             "outlinewidth": 0,
             "ticks": ""
            },
            "colorscale": [
             [
              0,
              "#0d0887"
             ],
             [
              0.1111111111111111,
              "#46039f"
             ],
             [
              0.2222222222222222,
              "#7201a8"
             ],
             [
              0.3333333333333333,
              "#9c179e"
             ],
             [
              0.4444444444444444,
              "#bd3786"
             ],
             [
              0.5555555555555556,
              "#d8576b"
             ],
             [
              0.6666666666666666,
              "#ed7953"
             ],
             [
              0.7777777777777778,
              "#fb9f3a"
             ],
             [
              0.8888888888888888,
              "#fdca26"
             ],
             [
              1,
              "#f0f921"
             ]
            ],
            "type": "histogram2d"
           }
          ],
          "histogram2dcontour": [
           {
            "colorbar": {
             "outlinewidth": 0,
             "ticks": ""
            },
            "colorscale": [
             [
              0,
              "#0d0887"
             ],
             [
              0.1111111111111111,
              "#46039f"
             ],
             [
              0.2222222222222222,
              "#7201a8"
             ],
             [
              0.3333333333333333,
              "#9c179e"
             ],
             [
              0.4444444444444444,
              "#bd3786"
             ],
             [
              0.5555555555555556,
              "#d8576b"
             ],
             [
              0.6666666666666666,
              "#ed7953"
             ],
             [
              0.7777777777777778,
              "#fb9f3a"
             ],
             [
              0.8888888888888888,
              "#fdca26"
             ],
             [
              1,
              "#f0f921"
             ]
            ],
            "type": "histogram2dcontour"
           }
          ],
          "mesh3d": [
           {
            "colorbar": {
             "outlinewidth": 0,
             "ticks": ""
            },
            "type": "mesh3d"
           }
          ],
          "parcoords": [
           {
            "line": {
             "colorbar": {
              "outlinewidth": 0,
              "ticks": ""
             }
            },
            "type": "parcoords"
           }
          ],
          "pie": [
           {
            "automargin": true,
            "type": "pie"
           }
          ],
          "scatter": [
           {
            "fillpattern": {
             "fillmode": "overlay",
             "size": 10,
             "solidity": 0.2
            },
            "type": "scatter"
           }
          ],
          "scatter3d": [
           {
            "line": {
             "colorbar": {
              "outlinewidth": 0,
              "ticks": ""
             }
            },
            "marker": {
             "colorbar": {
              "outlinewidth": 0,
              "ticks": ""
             }
            },
            "type": "scatter3d"
           }
          ],
          "scattercarpet": [
           {
            "marker": {
             "colorbar": {
              "outlinewidth": 0,
              "ticks": ""
             }
            },
            "type": "scattercarpet"
           }
          ],
          "scattergeo": [
           {
            "marker": {
             "colorbar": {
              "outlinewidth": 0,
              "ticks": ""
             }
            },
            "type": "scattergeo"
           }
          ],
          "scattergl": [
           {
            "marker": {
             "colorbar": {
              "outlinewidth": 0,
              "ticks": ""
             }
            },
            "type": "scattergl"
           }
          ],
          "scattermapbox": [
           {
            "marker": {
             "colorbar": {
              "outlinewidth": 0,
              "ticks": ""
             }
            },
            "type": "scattermapbox"
           }
          ],
          "scatterpolar": [
           {
            "marker": {
             "colorbar": {
              "outlinewidth": 0,
              "ticks": ""
             }
            },
            "type": "scatterpolar"
           }
          ],
          "scatterpolargl": [
           {
            "marker": {
             "colorbar": {
              "outlinewidth": 0,
              "ticks": ""
             }
            },
            "type": "scatterpolargl"
           }
          ],
          "scatterternary": [
           {
            "marker": {
             "colorbar": {
              "outlinewidth": 0,
              "ticks": ""
             }
            },
            "type": "scatterternary"
           }
          ],
          "surface": [
           {
            "colorbar": {
             "outlinewidth": 0,
             "ticks": ""
            },
            "colorscale": [
             [
              0,
              "#0d0887"
             ],
             [
              0.1111111111111111,
              "#46039f"
             ],
             [
              0.2222222222222222,
              "#7201a8"
             ],
             [
              0.3333333333333333,
              "#9c179e"
             ],
             [
              0.4444444444444444,
              "#bd3786"
             ],
             [
              0.5555555555555556,
              "#d8576b"
             ],
             [
              0.6666666666666666,
              "#ed7953"
             ],
             [
              0.7777777777777778,
              "#fb9f3a"
             ],
             [
              0.8888888888888888,
              "#fdca26"
             ],
             [
              1,
              "#f0f921"
             ]
            ],
            "type": "surface"
           }
          ],
          "table": [
           {
            "cells": {
             "fill": {
              "color": "#EBF0F8"
             },
             "line": {
              "color": "white"
             }
            },
            "header": {
             "fill": {
              "color": "#C8D4E3"
             },
             "line": {
              "color": "white"
             }
            },
            "type": "table"
           }
          ]
         },
         "layout": {
          "annotationdefaults": {
           "arrowcolor": "#2a3f5f",
           "arrowhead": 0,
           "arrowwidth": 1
          },
          "autotypenumbers": "strict",
          "coloraxis": {
           "colorbar": {
            "outlinewidth": 0,
            "ticks": ""
           }
          },
          "colorscale": {
           "diverging": [
            [
             0,
             "#8e0152"
            ],
            [
             0.1,
             "#c51b7d"
            ],
            [
             0.2,
             "#de77ae"
            ],
            [
             0.3,
             "#f1b6da"
            ],
            [
             0.4,
             "#fde0ef"
            ],
            [
             0.5,
             "#f7f7f7"
            ],
            [
             0.6,
             "#e6f5d0"
            ],
            [
             0.7,
             "#b8e186"
            ],
            [
             0.8,
             "#7fbc41"
            ],
            [
             0.9,
             "#4d9221"
            ],
            [
             1,
             "#276419"
            ]
           ],
           "sequential": [
            [
             0,
             "#0d0887"
            ],
            [
             0.1111111111111111,
             "#46039f"
            ],
            [
             0.2222222222222222,
             "#7201a8"
            ],
            [
             0.3333333333333333,
             "#9c179e"
            ],
            [
             0.4444444444444444,
             "#bd3786"
            ],
            [
             0.5555555555555556,
             "#d8576b"
            ],
            [
             0.6666666666666666,
             "#ed7953"
            ],
            [
             0.7777777777777778,
             "#fb9f3a"
            ],
            [
             0.8888888888888888,
             "#fdca26"
            ],
            [
             1,
             "#f0f921"
            ]
           ],
           "sequentialminus": [
            [
             0,
             "#0d0887"
            ],
            [
             0.1111111111111111,
             "#46039f"
            ],
            [
             0.2222222222222222,
             "#7201a8"
            ],
            [
             0.3333333333333333,
             "#9c179e"
            ],
            [
             0.4444444444444444,
             "#bd3786"
            ],
            [
             0.5555555555555556,
             "#d8576b"
            ],
            [
             0.6666666666666666,
             "#ed7953"
            ],
            [
             0.7777777777777778,
             "#fb9f3a"
            ],
            [
             0.8888888888888888,
             "#fdca26"
            ],
            [
             1,
             "#f0f921"
            ]
           ]
          },
          "colorway": [
           "#636efa",
           "#EF553B",
           "#00cc96",
           "#ab63fa",
           "#FFA15A",
           "#19d3f3",
           "#FF6692",
           "#B6E880",
           "#FF97FF",
           "#FECB52"
          ],
          "font": {
           "color": "#2a3f5f"
          },
          "geo": {
           "bgcolor": "white",
           "lakecolor": "white",
           "landcolor": "#E5ECF6",
           "showlakes": true,
           "showland": true,
           "subunitcolor": "white"
          },
          "hoverlabel": {
           "align": "left"
          },
          "hovermode": "closest",
          "mapbox": {
           "style": "light"
          },
          "paper_bgcolor": "white",
          "plot_bgcolor": "#E5ECF6",
          "polar": {
           "angularaxis": {
            "gridcolor": "white",
            "linecolor": "white",
            "ticks": ""
           },
           "bgcolor": "#E5ECF6",
           "radialaxis": {
            "gridcolor": "white",
            "linecolor": "white",
            "ticks": ""
           }
          },
          "scene": {
           "xaxis": {
            "backgroundcolor": "#E5ECF6",
            "gridcolor": "white",
            "gridwidth": 2,
            "linecolor": "white",
            "showbackground": true,
            "ticks": "",
            "zerolinecolor": "white"
           },
           "yaxis": {
            "backgroundcolor": "#E5ECF6",
            "gridcolor": "white",
            "gridwidth": 2,
            "linecolor": "white",
            "showbackground": true,
            "ticks": "",
            "zerolinecolor": "white"
           },
           "zaxis": {
            "backgroundcolor": "#E5ECF6",
            "gridcolor": "white",
            "gridwidth": 2,
            "linecolor": "white",
            "showbackground": true,
            "ticks": "",
            "zerolinecolor": "white"
           }
          },
          "shapedefaults": {
           "line": {
            "color": "#2a3f5f"
           }
          },
          "ternary": {
           "aaxis": {
            "gridcolor": "white",
            "linecolor": "white",
            "ticks": ""
           },
           "baxis": {
            "gridcolor": "white",
            "linecolor": "white",
            "ticks": ""
           },
           "bgcolor": "#E5ECF6",
           "caxis": {
            "gridcolor": "white",
            "linecolor": "white",
            "ticks": ""
           }
          },
          "title": {
           "x": 0.05
          },
          "xaxis": {
           "automargin": true,
           "gridcolor": "white",
           "linecolor": "white",
           "ticks": "",
           "title": {
            "standoff": 15
           },
           "zerolinecolor": "white",
           "zerolinewidth": 2
          },
          "yaxis": {
           "automargin": true,
           "gridcolor": "white",
           "linecolor": "white",
           "ticks": "",
           "title": {
            "standoff": 15
           },
           "zerolinecolor": "white",
           "zerolinewidth": 2
          }
         }
        },
        "xaxis": {
         "anchor": "y",
         "domain": [
          0,
          1
         ],
         "title": {
          "text": "x"
         }
        },
        "yaxis": {
         "anchor": "x",
         "domain": [
          0,
          1
         ],
         "title": {
          "text": "y"
         }
        }
       }
      }
     },
     "metadata": {},
     "output_type": "display_data"
    }
   ],
   "source": [
    "px.line(x=range(len(df['t'])),y=df['temp'])"
   ]
  },
  {
   "cell_type": "code",
   "execution_count": 18,
   "id": "875f696e",
   "metadata": {},
   "outputs": [
    {
     "data": {
      "image/png": "[encoded data removed]",
      "text/plain": [
       "<Figure size 640x480 with 1 Axes>"
      ]
     },
     "metadata": {},
     "output_type": "display_data"
    },
    {
     "data": {
      "image/png": "[encoded data removed]",
      "text/plain": [
       "<Figure size 1600x900 with 1 Axes>"
      ]
     },
     "metadata": {},
     "output_type": "display_data"
    }
   ],
   "source": [
    "cut=41*29\n",
    "t_vid=df_video['t'][:cut]\n",
    "N=len(t_vid[:cut])\n",
    "dt=np.diff(t_vid)[0]\n",
    "y= intensidad[:cut]\n",
    "plt.plot(t_vid, y)\n",
    "yf = fft(y)\n",
    "xf = fftfreq(N, dt)[:N//2]\n",
    "import matplotlib.pyplot as plt\n",
    "plt.figure(figsize=(16,9))\n",
    "plt.plot(xf, 2.0/N * np.abs(yf[0:N//2]))\n",
    "plt.grid()\n",
    "plt.show()\n",
    "\n",
    "\n"
   ]
  },
  {
   "cell_type": "code",
   "execution_count": 4,
   "id": "d722ba25",
   "metadata": {},
   "outputs": [
    {
     "data": {
      "image/png": "[encoded data removed]",
      "text/plain": [
       "<Figure size 1600x900 with 1 Axes>"
      ]
     },
     "metadata": {},
     "output_type": "display_data"
    }
   ],
   "source": [
    "\n",
    "# Number of sample points\n",
    "N = 600\n",
    "# sample spacing\n",
    "T = 1.0 / 800.0\n",
    "x = np.linspace(0.0, N*T, N, endpoint=False)\n",
    "y = np.sin(50.0 * 2.0*np.pi*x) + 0.5*np.sin(80.0 * 2.0*np.pi*x)\n",
    "yf = fft(y)\n",
    "xf = fftfreq(N, T)[:N//2]\n",
    "import matplotlib.pyplot as plt\n",
    "plt.figure(figsize=(16,9))\n",
    "plt.plot(xf, 2.0/N * np.abs(yf[0:N//2]))\n",
    "plt.grid()\n",
    "plt.show()"
   ]
  }
 ],
 "metadata": {
  "kernelspec": {
   "display_name": "Python 3",
   "language": "python",
   "name": "python3"
  },
  "language_info": {
   "codemirror_mode": {
    "name": "ipython",
    "version": 3
   },
   "file_extension": ".py",
   "mimetype": "text/x-python",
   "name": "python",
   "nbconvert_exporter": "python",
   "pygments_lexer": "ipython3",
   "version": "3.12.7"
  }
 },
 "nbformat": 4,
 "nbformat_minor": 5
}
