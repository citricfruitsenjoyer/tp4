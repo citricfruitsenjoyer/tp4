{
 "cells": [
  {
   "cell_type": "code",
   "execution_count": 3,
   "id": "c9b6db15",
   "metadata": {},
   "outputs": [],
   "source": [
    "import cv2 as cv\n",
    "import numpy as np\n",
    "from matplotlib import pyplot as plt\n",
    "import glob\n",
    "import pandas as pd\n",
    "from scipy import signal as sn\n",
    "plt.style.use('ggplot')\n",
    "\n",
    "\n",
    "\n",
    "videos=['videos/20250528_170906-003.mp4','videos/20250528_173138.mp4','videos/20250528_173920.mp4','videos/20250528_175822.mp4',\n",
    "        'videos/C1862-001.MP4','videos/C1871.MP4','videos/C1872.MP4','videos/C1873.MP4']\n",
    "paths=[f\"frames_video{i+1}/*\" for i in range(len(videos))]\n"
   ]
  },
  {
   "cell_type": "code",
   "execution_count": null,
   "id": "e1cd9540",
   "metadata": {},
   "outputs": [
    {
     "data": {
      "text/plain": [
       "'frames_video8\\\\frame002500.jpg'"
      ]
     },
     "execution_count": 7,
     "metadata": {},
     "output_type": "execute_result"
    }
   ],
   "source": []
  },
  {
   "cell_type": "code",
   "execution_count": null,
   "id": "0911131a",
   "metadata": {},
   "outputs": [
    {
     "name": "stdout",
     "output_type": "stream",
     "text": [
      "25.0\n",
      "121.55905518947105 137.67854355435054 132.5965210248192\n"
     ]
    }
   ],
   "source": [
    "k=7\n",
    "\n",
    "path_list=glob.glob(paths[k])\n",
    "cam = cv.VideoCapture(videos[k])\n",
    "fps = cam.get(cv.CAP_PROP_FPS)\n",
    "print(fps)\n",
    "cam.release()\n",
    "dt=1/fps\n",
    "t=np.array([dt*x for x in range(len(path_list))])\n",
    "\n",
    "r,g,b=np.zeros(shape=(3,t.shape[0]))\n",
    "r_in,g_in,b_in=0,0,0\n",
    "\n",
    "j=25*100\n",
    "i=path_list[j]\n",
    "\n",
    "img = cv.imread(i)\n",
    "# img = 255-img \n",
    "r_in,g_in,b_in=0,0,0\n",
    "\n",
    "slice1 = img[1070:1300, 2064:2217]\n",
    "slice2 = img[864:1596 , 2218:2418]\n",
    "slice3 = img[759:1644 , 2419:2610]\n",
    "slice4 = img[797:1644 , 2611:2746]\n",
    "slice5 = img[1046:1644, 2747:2930]\n",
    "\n",
    "slices=[slice1, slice2, slice3, slice4, slice5]\n",
    "slicescut=slices[:2]\n",
    "\n",
    "for z in slicescut:\n",
    "    r_in += np.sum(z[:,:,0])/np.size(z)\n",
    "    g_in += np.sum(z[:,:,1])/np.size(z)\n",
    "    b_in += np.sum(z[:,:,2])/np.size(z)\n",
    "\n",
    "print(r_in,g_in,b_in)\n"
   ]
  }
 ],
 "metadata": {
  "kernelspec": {
   "display_name": "Python 3",
   "language": "python",
   "name": "python3"
  },
  "language_info": {
   "codemirror_mode": {
    "name": "ipython",
    "version": 3
   },
   "file_extension": ".py",
   "mimetype": "text/x-python",
   "name": "python",
   "nbconvert_exporter": "python",
   "pygments_lexer": "ipython3",
   "version": "3.12.7"
  }
 },
 "nbformat": 4,
 "nbformat_minor": 5
}
