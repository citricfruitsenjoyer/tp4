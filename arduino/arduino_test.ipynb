{
 "cells": [
  {
   "cell_type": "code",
   "execution_count": null,
   "id": "21470a75",
   "metadata": {},
   "outputs": [],
   "source": [
    "# void setup() {\n",
    "#   // initialize digital pin LED_BUILTIN as an output.\n",
    "#   pinMode(7, OUTPUT);\n",
    "#   pinMode(8, OUTPUT);\n",
    "#   digitalWrite(7, LOW);\n",
    "#   digitalWrite(8, LOW);\n",
    "# }\n",
    "\n",
    "# // the loop function runs over and over again forever\n",
    "# void loop() {\n",
    "#   digitalWrite(7, HIGH);  // turn the LED on (HIGH is the voltage level)\n",
    "#   delay(40000);                      // wait for a second\n",
    "#   digitalWrite(7, LOW);   // turn the LED off by making the voltage LOW\n",
    "#   delay(1000);                      // wait for a second\n",
    "\n",
    "#   digitalWrite(8, HIGH);  // turn the LED on (HIGH is the voltage level)\n",
    "#   delay(60000);                      // wait for a second\n",
    "#   digitalWrite(8, LOW);   // turn the LED off by making the voltage LOW\n",
    "#   delay(1000);                      // wait for a second\n",
    "# }\n"
   ]
  },
  {
   "cell_type": "code",
   "execution_count": null,
   "id": "d47adbb2",
   "metadata": {},
   "outputs": [],
   "source": [
    "import time\n",
    "pin7=False\n",
    "pin8=False\n",
    "enfriamiento = False\n",
    "# loop = 0\n",
    "contador = 0\n",
    "calentamiento = True\n",
    "while True:\n",
    "    \n",
    "    if contador==39:\n",
    "        enfriamiento = True\n",
    "        calentamiento= False\n",
    "    \n",
    "    tiempo = [x for x in range(40)]\n",
    "    \n",
    "    if enfriamiento == True:\n",
    "        pin8 = False\n",
    "        pin7 = True\n",
    "        time.sleep(tiempo[contador])\n",
    "        pin7= False\n",
    "        time.sleep(1)\n",
    "    \n",
    "    if calentamiento == True:\n",
    "        pin7 = False\n",
    "        pin8 = True\n",
    "        time.sleep(tiempo[contador])\n",
    "        pin8= False\n",
    "        time.sleep(1)\n",
    "        \n",
    "    contador +=1\n",
    "    \n",
    "\n",
    "        "
   ]
  }
 ],
 "metadata": {
  "language_info": {
   "name": "python"
  }
 },
 "nbformat": 4,
 "nbformat_minor": 5
}
